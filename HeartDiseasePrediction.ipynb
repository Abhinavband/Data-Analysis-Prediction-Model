{
  "nbformat": 4,
  "nbformat_minor": 0,
  "metadata": {
    "colab": {
      "provenance": [],
      "authorship_tag": "ABX9TyNeGF39yUMkl9Wlx2aMswqO",
      "include_colab_link": true
    },
    "kernelspec": {
      "name": "python3",
      "display_name": "Python 3"
    },
    "language_info": {
      "name": "python"
    }
  },
  "cells": [
    {
      "cell_type": "markdown",
      "metadata": {
        "id": "view-in-github",
        "colab_type": "text"
      },
      "source": [
        "<a href=\"https://colab.research.google.com/github/Abhinavband/Data-Analysis-Prediction-Model/blob/main/HeartDiseasePrediction.ipynb\" target=\"_parent\"><img src=\"https://colab.research.google.com/assets/colab-badge.svg\" alt=\"Open In Colab\"/></a>"
      ]
    },
    {
      "cell_type": "code",
      "execution_count": 1,
      "metadata": {
        "colab": {
          "base_uri": "https://localhost:8080/"
        },
        "id": "kdwbOuoJ5IEw",
        "outputId": "bda93b0e-1862-450c-e530-31915e13ba99"
      },
      "outputs": [
        {
          "output_type": "stream",
          "name": "stdout",
          "text": [
            "   gender  age  chest_pain  blood_pressure  cholesterol  heart_rate  \\\n",
            "0       1   45           1             130          220          85   \n",
            "1       1   60           0             140          250          78   \n",
            "2       0   50           1             120          200          90   \n",
            "3       1   55           1             150          230          95   \n",
            "4       0   40           0             110          180          80   \n",
            "\n",
            "   history_of_disease  heart_disease (target)  \n",
            "0                   1                       1  \n",
            "1                   1                       1  \n",
            "2                   0                       0  \n",
            "3                   1                       1  \n",
            "4                   0                       0  \n",
            "[1]\n",
            "\"High risk of heart disease. Consult a doctor immediately.\"\n"
          ]
        }
      ],
      "source": [
        "#Prediction Model\n",
        "from sklearn import tree\n",
        "import pandas\n",
        "\n",
        "df=pandas.read_csv(\"/content/Heart1.csv\")\n",
        "print(df.head())\n",
        "symptoms=df.iloc[:,:7]\n",
        "result=df.iloc[:,7]\n",
        "\n",
        "model=tree.DecisionTreeClassifier()\n",
        "model.fit(symptoms.values,result.values)\n",
        "\n",
        "reco=model.predict([[2,75,1,130,220,82,1]])\n",
        "print(reco)\n",
        "\n",
        "if reco[0]==1:\n",
        "    print('\"High risk of heart disease. Consult a doctor immediately.\"')\n",
        "else:\n",
        "    print('Low risk of heart disease. Maintain a healthy lifestyle ..take the prescribed medicines')\n",
        "\n",
        "\n",
        "\n"
      ]
    }
  ]
}